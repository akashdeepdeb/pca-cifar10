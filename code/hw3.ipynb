{
 "cells": [
  {
   "cell_type": "code",
   "execution_count": 121,
   "metadata": {
    "collapsed": true
   },
   "outputs": [],
   "source": [
    "import numpy as np\n",
    "import pandas as pd"
   ]
  },
  {
   "cell_type": "code",
   "execution_count": 122,
   "metadata": {
    "collapsed": true
   },
   "outputs": [],
   "source": [
    "def unpickle(file):\n",
    "    import pickle\n",
    "    with open(file, 'rb') as fo:\n",
    "        dict = pickle.load(fo, encoding='bytes')\n",
    "    return dict"
   ]
  },
  {
   "cell_type": "code",
   "execution_count": 123,
   "metadata": {},
   "outputs": [],
   "source": [
    "data_batch_1 = unpickle('data_batch_1')\n",
    "data_batch_2 = unpickle('data_batch_2')\n",
    "data_batch_3 = unpickle('data_batch_3')\n",
    "data_batch_4 = unpickle('data_batch_4')\n",
    "data_batch_5 = unpickle('data_batch_5')\n",
    "test_batch = unpickle('test_batch')"
   ]
  },
  {
   "cell_type": "code",
   "execution_count": 124,
   "metadata": {
    "collapsed": true
   },
   "outputs": [],
   "source": [
    "data1 = data_batch_1[b'data']\n",
    "data2 = data_batch_2[b'data']\n",
    "data3 = data_batch_3[b'data']\n",
    "data4 = data_batch_4[b'data']\n",
    "data5 = data_batch_5[b'data']\n",
    "test = test_batch[b'data']"
   ]
  },
  {
   "cell_type": "code",
   "execution_count": 125,
   "metadata": {},
   "outputs": [
    {
     "data": {
      "text/plain": [
       "array([[ 59,  43,  50, ..., 140,  84,  72],\n",
       "       [154, 126, 105, ..., 139, 142, 144],\n",
       "       [255, 253, 253, ...,  83,  83,  84],\n",
       "       ..., \n",
       "       [ 20,  19,  15, ...,  50,  53,  47],\n",
       "       [ 25,  15,  23, ...,  80,  81,  80],\n",
       "       [ 73,  98,  99, ...,  94,  58,  26]], dtype=uint8)"
      ]
     },
     "execution_count": 125,
     "metadata": {},
     "output_type": "execute_result"
    }
   ],
   "source": [
    "data = np.concatenate([data1,data2,data3,data4,data5,test],axis=0)\n",
    "data"
   ]
  },
  {
   "cell_type": "code",
   "execution_count": 127,
   "metadata": {},
   "outputs": [],
   "source": [
    "data_label_1 = data_batch_1[b'labels']\n",
    "data_label_2 = data_batch_2[b'labels']\n",
    "data_label_3 = data_batch_3[b'labels']\n",
    "data_label_4 = data_batch_4[b'labels']\n",
    "data_label_5 = data_batch_5[b'labels']\n",
    "test_label = test_batch[b'labels']\n",
    "labels = np.concatenate([data_label_1, data_label_2, data_label_3, data_label_4, data_label_5,test_label])\n",
    "df_data = pd.DataFrame(data)\n",
    "df_labels = pd.Series(labels, name=\"labels\")\n",
    "df_labels = pd.DataFrame(df_labels)\n",
    "df = pd.concat([df_data,df_labels],axis=1)"
   ]
  },
  {
   "cell_type": "code",
   "execution_count": 128,
   "metadata": {},
   "outputs": [],
   "source": [
    "#Separate data by labels and compute mean image for each label\n",
    "\n",
    "data = []\n",
    "mean = []\n",
    "for i in range(0,10):\n",
    "    data.append(df[df['labels']==i])\n",
    "    data[i] = data[i].drop(['labels'],axis=1)\n",
    "    mean.append(data[i].mean())\n",
    "    data[i] = data[i].as_matrix()"
   ]
  },
  {
   "cell_type": "code",
   "execution_count": null,
   "metadata": {},
   "outputs": [],
   "source": []
  },
  {
   "cell_type": "code",
   "execution_count": 129,
   "metadata": {
    "collapsed": true
   },
   "outputs": [],
   "source": [
    "#Calculate covmat for each category\n",
    "covmat = []\n",
    "for i in range(0,10):\n",
    "    covmat.append(np.cov(data[i],rowvar=False))"
   ]
  },
  {
   "cell_type": "code",
   "execution_count": 130,
   "metadata": {
    "collapsed": true
   },
   "outputs": [],
   "source": [
    "data_norm = []\n",
    "for i in range(0,10):    \n",
    "    data_norm.append(data[i].astype(float))\n",
    "    for j in range(0,len(data[i])):\n",
    "        data_norm[i][j] = data_norm[i][j] - mean[i]"
   ]
  },
  {
   "cell_type": "code",
   "execution_count": 131,
   "metadata": {},
   "outputs": [],
   "source": [
    "#Find matrix of eigenvectors for covmat\n",
    "eig = []\n",
    "for i in range(0,10):\n",
    "    eig.append(np.linalg.eig(covmat[i]))"
   ]
  },
  {
   "cell_type": "code",
   "execution_count": 132,
   "metadata": {},
   "outputs": [],
   "source": [
    "error = []\n",
    "\n",
    "for i in range(0,10):\n",
    "    sum_20 = 0\n",
    "    for j in range(0,20):\n",
    "        sum_20 += eig[i][0][j]\n",
    "    error.append(eig[i][0].sum() - sum_20)\n"
   ]
  },
  {
   "cell_type": "code",
   "execution_count": 133,
   "metadata": {},
   "outputs": [
    {
     "data": {
      "image/png": "[encoded data removed]",
      "text/plain": [
       "<matplotlib.figure.Figure at 0x13c4472a4e0>"
      ]
     },
     "metadata": {},
     "output_type": "display_data"
    }
   ],
   "source": [
    "import matplotlib.pyplot as plt\n",
    "df_error = pd.DataFrame(error)\n",
    "bar_graph = df_error.plot(kind='bar',title='PCA Error Per Category', figsize=(10,8),fontsize=12, legend=False)\n",
    "bar_graph.set_ylabel(\"Error\",fontsize=12)\n",
    "bar_graph.set_xlabel(\"Category\",fontsize=12)\n",
    "plt.show()"
   ]
  },
  {
   "cell_type": "code",
   "execution_count": 109,
   "metadata": {},
   "outputs": [
    {
     "name": "stdout",
     "output_type": "stream",
     "text": [
      "0.0\n",
      "1.0\n",
      "2.0\n",
      "3.0\n",
      "4.0\n",
      "5.0\n",
      "6.0\n",
      "7.0\n",
      "8.0\n",
      "9.0\n",
      "10.0\n",
      "11.0\n",
      "12.0\n",
      "13.0\n",
      "14.0\n",
      "15.0\n",
      "16.0\n",
      "17.0\n",
      "18.0\n",
      "19.0\n",
      "20.0\n",
      "21.0\n",
      "22.0\n",
      "23.0\n",
      "24.0\n",
      "25.0\n",
      "26.0\n",
      "27.0\n",
      "28.0\n",
      "29.0\n",
      "30.0\n",
      "31.0\n",
      "32.0\n",
      "33.0\n",
      "34.0\n",
      "35.0\n",
      "36.0\n",
      "37.0\n",
      "38.0\n",
      "39.0\n",
      "40.0\n",
      "41.0\n",
      "42.0\n",
      "43.0\n",
      "44.0\n",
      "45.0\n",
      "46.0\n",
      "47.0\n",
      "48.0\n",
      "49.0\n",
      "50.0\n",
      "51.0\n",
      "52.0\n",
      "53.0\n",
      "54.0\n",
      "55.0\n",
      "56.0\n",
      "57.0\n",
      "58.0\n",
      "59.0\n",
      "60.0\n",
      "61.0\n",
      "62.0\n",
      "63.0\n",
      "64.0\n",
      "65.0\n",
      "66.0\n",
      "67.0\n",
      "68.0\n",
      "69.0\n",
      "70.0\n",
      "71.0\n",
      "72.0\n",
      "73.0\n",
      "74.0\n",
      "75.0\n",
      "76.0\n",
      "77.0\n",
      "78.0\n",
      "79.0\n",
      "80.0\n",
      "81.0\n",
      "82.0\n",
      "83.0\n",
      "84.0\n",
      "85.0\n",
      "86.0\n",
      "87.0\n",
      "88.0\n",
      "89.0\n",
      "90.0\n",
      "91.0\n",
      "92.0\n",
      "93.0\n",
      "94.0\n",
      "95.0\n",
      "96.0\n",
      "97.0\n",
      "98.0\n",
      "99.0\n"
     ]
    }
   ],
   "source": [
    "'''\n",
    "eig_vects_0 = eig_0[1]\n",
    "eig_vects_0_T = np.transpose(eig_vects_0)\n",
    "data_norm_0_T = np.transpose(data_norm_0)\n",
    "for i in range(0,5000):\n",
    "    r[i] = np.matmul(eig_vects_0_T,data_norm_0[i])\n",
    "    if(i%50 == 0): print(i/50)\n",
    "#r = np.matmul(data_norm_0,eig_vects_0_T)\n",
    "'''"
   ]
  },
  {
   "cell_type": "code",
   "execution_count": 102,
   "metadata": {},
   "outputs": [],
   "source": [
    "'''\n",
    "covmat_0_r = np.matmul(eig_vects_0_T,covmat_0)\n",
    "covmat_0_r = np.matmul(covmat_0_r,eig_vects_0)\n",
    "covmat_0_pc = np.zeros((20,20))\n",
    "for i in range(0,20):\n",
    "    for j in range(0,20):\n",
    "        covmat_0_pc[i,j] = covmat_0_r[i,j]\n",
    "'''"
   ]
  },
  {
   "cell_type": "code",
   "execution_count": null,
   "metadata": {},
   "outputs": [],
   "source": []
  }
 ],
 "metadata": {
  "kernelspec": {
   "display_name": "Python 3",
   "language": "python",
   "name": "python3"
  },
  "language_info": {
   "codemirror_mode": {
    "name": "ipython",
    "version": 3
   },
   "file_extension": ".py",
   "mimetype": "text/x-python",
   "name": "python",
   "nbconvert_exporter": "python",
   "pygments_lexer": "ipython3",
   "version": "3.5.0"
  }
 },
 "nbformat": 4,
 "nbformat_minor": 2
}
